{
 "cells": [
  {
   "cell_type": "markdown",
   "metadata": {},
   "source": [
    "#           MARIYA WAEEEM ASSIGNMENT '3'"
   ]
  },
  {
   "cell_type": "markdown",
   "metadata": {},
   "source": [
    " # Ques 1"
   ]
  },
  {
   "cell_type": "code",
   "execution_count": 1,
   "metadata": {},
   "outputs": [
    {
     "name": "stdout",
     "output_type": "stream",
     "text": [
      "Twinkle, twinkle, little star, \n",
      "\t  How I wonder what you are! \n",
      "\t\tUp above the world so high, \n",
      "\t\tLike a diamond in the sky. \n",
      "Twinkle, twinkle, little star, \n",
      "\t  How I wonder what you are\n"
     ]
    }
   ],
   "source": [
    "print(\"Twinkle, twinkle, little star, \\n\\t  How I wonder what you are! \\n\\t\\tUp above the world so high, \\n\\t\\tLike a diamond in the sky. \\nTwinkle, twinkle, little star, \\n\\t  How I wonder what you are\");"
   ]
  },
  {
   "cell_type": "markdown",
   "metadata": {},
   "source": [
    "____________________________________"
   ]
  },
  {
   "cell_type": "markdown",
   "metadata": {},
   "source": [
    "# QUES 2"
   ]
  },
  {
   "cell_type": "code",
   "execution_count": 2,
   "metadata": {},
   "outputs": [
    {
     "name": "stdout",
     "output_type": "stream",
     "text": [
      " The Python Version is :  3.7.6 (default, Jan  8 2020, 16:21:45) [MSC v.1916 32 bit (Intel)]\n"
     ]
    }
   ],
   "source": [
    "import sys;\n",
    "print(\" The Python Version is : \" , sys.version);"
   ]
  },
  {
   "cell_type": "markdown",
   "metadata": {},
   "source": [
    "____________________________"
   ]
  },
  {
   "cell_type": "markdown",
   "metadata": {},
   "source": [
    " # Ques  3"
   ]
  },
  {
   "cell_type": "code",
   "execution_count": 3,
   "metadata": {},
   "outputs": [
    {
     "name": "stdout",
     "output_type": "stream",
     "text": [
      "The Current Date and Time is = 2021-10-23 05:48:50.699581\n"
     ]
    }
   ],
   "source": [
    "import datetime\n",
    "\n",
    "data = datetime.datetime.now();\n",
    "print ('The Current Date and Time is = %s' % data);"
   ]
  },
  {
   "cell_type": "markdown",
   "metadata": {},
   "source": [
    "________________________________"
   ]
  },
  {
   "cell_type": "markdown",
   "metadata": {},
   "source": [
    "# Ques  4"
   ]
  },
  {
   "cell_type": "code",
   "execution_count": 4,
   "metadata": {},
   "outputs": [
    {
     "name": "stdout",
     "output_type": "stream",
     "text": [
      "Enter the radius of a circle : 43\n",
      "The Area of a Circle is : 5808.804816487527\n"
     ]
    }
   ],
   "source": [
    "from math import pi\n",
    "\n",
    "radius = float(input ('Enter the radius of a circle : '));\n",
    "print ( 'The Area of a Circle is : ' + str(pi * radius**2));"
   ]
  },
  {
   "cell_type": "markdown",
   "metadata": {},
   "source": [
    "______________"
   ]
  },
  {
   "cell_type": "markdown",
   "metadata": {},
   "source": [
    "# QUES 5"
   ]
  },
  {
   "cell_type": "code",
   "execution_count": 5,
   "metadata": {},
   "outputs": [
    {
     "name": "stdout",
     "output_type": "stream",
     "text": [
      " Enter your First Name : Mariya\n",
      " Enter your Last Name : Waseem\n",
      "Waseem Mariya\n",
      "Mariya  is First Name   And  Waseem  is Last Name \n"
     ]
    }
   ],
   "source": [
    "firstName = input (' Enter your First Name : ');\n",
    "lastName = input (' Enter your Last Name : ');\n",
    "print ( lastName  ,  firstName );\n",
    "print (firstName , \" is First Name \" , \" And \" , lastName , \" is Last Name \");"
   ]
  },
  {
   "cell_type": "markdown",
   "metadata": {},
   "source": [
    "____________"
   ]
  },
  {
   "cell_type": "markdown",
   "metadata": {},
   "source": [
    "# Ques 6"
   ]
  },
  {
   "cell_type": "code",
   "execution_count": 1,
   "metadata": {},
   "outputs": [
    {
     "name": "stdout",
     "output_type": "stream",
     "text": [
      " Enter a first Number 53\n",
      " Enter a Second Number 72\n",
      "The Total Sum is  125\n"
     ]
    }
   ],
   "source": [
    "num1 = int(input(' Enter a first Number '));\n",
    "num2 = int(input(' Enter a Second Number '));\n",
    "total = num1+num2\n",
    "print (\"The Total Sum is \" , total);"
   ]
  },
  {
   "cell_type": "markdown",
   "metadata": {},
   "source": [
    "____________"
   ]
  },
  {
   "cell_type": "markdown",
   "metadata": {},
   "source": [
    "# Ques 7"
   ]
  },
  {
   "cell_type": "code",
   "execution_count": 2,
   "metadata": {},
   "outputs": [
    {
     "name": "stdout",
     "output_type": "stream",
     "text": [
      " Enter your English Marks : 72\n",
      " Enter your Math Marks : 96\n",
      " Enter your Biology Marks : 49\n",
      " Enter your Physics Marks : 56\n",
      " Enter your Islamiat Marks : 73\n",
      " You Got  346 Marks\n",
      "YOUR PERCENTAGE IS  69.19999999999999 And Your Grade is B\n"
     ]
    }
   ],
   "source": [
    "English = float(input (' Enter your English Marks : '));\n",
    "Math = float(input (' Enter your Math Marks : '));\n",
    "Biology = float(input (' Enter your Biology Marks : '));\n",
    "Physics = float(input (' Enter your Physics Marks : '));\n",
    "Islamiat = float(input (' Enter your Islamiat Marks : '));\n",
    "totalMarks = 500;\n",
    "obtainedMarks = int(English + Math + Biology + Physics + Islamiat );\n",
    "sum = obtainedMarks / totalMarks\n",
    "percent = sum * 100;\n",
    "print ( \" You Got \" , obtainedMarks , \"Marks\");\n",
    "\n",
    "\n",
    "if percent < 100 and percent > 80:\n",
    "    print(\"YOUR PERCENTAGE IS \" + str(percent)  + \" And Your Grade is A+\");\n",
    "    \n",
    "elif percent < 80 and percent > 70:\n",
    "    print(\"YOUR PERCENTAGE IS \" + str(percent)  + \" And Your Grade is A\");\n",
    "    \n",
    "elif percent < 70 and percent > 60:\n",
    "    print(\"YOUR PERCENTAGE IS  \" + str(percent)  + \" And Your Grade is B\");\n",
    "    \n",
    "elif percent < 60 and percent > 50:\n",
    "    print(\"YOUR PERCENTAGE IS  \" + str(percent)  + \" And Your Grade is C\");\n",
    "    \n",
    "elif percent >100:\n",
    "    print(\"ERROR! Enter a valid marks\");\n",
    "    \n",
    "else:\n",
    "    print(\"YOUR PERCENTAGE IS  \" + str(percent)  + \" Fail! You need to hard work\");"
   ]
  },
  {
   "cell_type": "markdown",
   "metadata": {},
   "source": [
    "____________"
   ]
  },
  {
   "cell_type": "markdown",
   "metadata": {},
   "source": [
    "# Ques 8"
   ]
  },
  {
   "cell_type": "code",
   "execution_count": 3,
   "metadata": {},
   "outputs": [
    {
     "name": "stdout",
     "output_type": "stream",
     "text": [
      "Enter a number: 33\n",
      "The 33 is an odd number.\n"
     ]
    }
   ],
   "source": [
    "num = int(input(\"Enter a number: \"));\n",
    "if (num % 2) > 0:\n",
    "    print(\"The\" , num , \"is an odd number.\");\n",
    "else:\n",
    "    print(\"The\" , num , \"is an even number.\");"
   ]
  },
  {
   "cell_type": "markdown",
   "metadata": {},
   "source": [
    "__________________"
   ]
  },
  {
   "cell_type": "markdown",
   "metadata": {},
   "source": [
    "# Ques 9"
   ]
  },
  {
   "cell_type": "code",
   "execution_count": 4,
   "metadata": {},
   "outputs": [
    {
     "name": "stdout",
     "output_type": "stream",
     "text": [
      "The Number of items in the list is =  6\n"
     ]
    }
   ],
   "source": [
    "listItem = [\"orange\" , \"graphs\" , \"pine-Apple\" , \"mango\" , \"charries\" , \"stawbarry\"];\n",
    "print(\"The Number of items in the list is = \", len(listItem));"
   ]
  },
  {
   "cell_type": "markdown",
   "metadata": {},
   "source": [
    "_____"
   ]
  },
  {
   "cell_type": "markdown",
   "metadata": {},
   "source": [
    "# Ques 10"
   ]
  },
  {
   "cell_type": "code",
   "execution_count": 2,
   "metadata": {},
   "outputs": [
    {
     "name": "stdout",
     "output_type": "stream",
     "text": [
      " The Total sum of list1 is  159\n"
     ]
    }
   ],
   "source": [
    "list1 = [20, 30, 10, 4, 6, 72, 17];\n",
    "list2 = sum(list1);\n",
    "print(\" The Total sum of list1 is \" , list2 );"
   ]
  },
  {
   "cell_type": "markdown",
   "metadata": {},
   "source": [
    "________"
   ]
  },
  {
   "cell_type": "markdown",
   "metadata": {},
   "source": [
    "# Ques 11"
   ]
  },
  {
   "cell_type": "code",
   "execution_count": 3,
   "metadata": {},
   "outputs": [
    {
     "name": "stdout",
     "output_type": "stream",
     "text": [
      " The  Largest number in list1 is :  72\n"
     ]
    }
   ],
   "source": [
    "print (\" The  Largest number in list1 is : \" , max(list1));"
   ]
  },
  {
   "cell_type": "markdown",
   "metadata": {},
   "source": [
    "_______________"
   ]
  },
  {
   "cell_type": "markdown",
   "metadata": {},
   "source": [
    "# Ques 12"
   ]
  },
  {
   "cell_type": "code",
   "execution_count": 3,
   "metadata": {},
   "outputs": [
    {
     "name": "stdout",
     "output_type": "stream",
     "text": [
      "1\n",
      "1\n",
      "2\n",
      "3\n"
     ]
    }
   ],
   "source": [
    "a = [1, 1, 2, 3, 5, 8, 13, 21, 34, 55, 89];\n",
    "for i in a:\n",
    "    if i < 5:\n",
    "        print(i);"
   ]
  },
  {
   "cell_type": "code",
   "execution_count": null,
   "metadata": {},
   "outputs": [],
   "source": []
  }
 ],
 "metadata": {
  "kernelspec": {
   "display_name": "Python 3",
   "language": "python",
   "name": "python3"
  },
  "language_info": {
   "codemirror_mode": {
    "name": "ipython",
    "version": 3
   },
   "file_extension": ".py",
   "mimetype": "text/x-python",
   "name": "python",
   "nbconvert_exporter": "python",
   "pygments_lexer": "ipython3",
   "version": "3.7.6"
  }
 },
 "nbformat": 4,
 "nbformat_minor": 4
}
